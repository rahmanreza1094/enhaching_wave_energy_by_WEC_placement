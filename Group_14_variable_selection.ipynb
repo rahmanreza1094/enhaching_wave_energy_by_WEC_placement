{
 "cells": [
  {
   "cell_type": "markdown",
   "metadata": {
    "id": "lH5U14ksV-qj"
   },
   "source": [
    "# Step 4.2: Feature Selection"
   ]
  },
  {
   "cell_type": "code",
   "execution_count": 1,
   "metadata": {
    "id": "VL2xARXwFKYS"
   },
   "outputs": [],
   "source": [
    "import pandas as pd\n",
    "import numpy as np\n",
    "import matplotlib.pyplot as plt\n",
    "import seaborn as sns\n",
    "\n",
    "from sklearn.model_selection import train_test_split\n",
    "from sklearn.preprocessing import StandardScaler\n",
    "\n",
    "from sklearn.linear_model import LinearRegression\n",
    "from sklearn.neighbors import KNeighborsRegressor\n",
    "from sklearn.ensemble import RandomForestRegressor, GradientBoostingRegressor\n",
    "from sklearn.svm import SVR\n",
    "\n",
    "from sklearn.metrics import mean_squared_error,r2_score\n",
    "\n",
    "import warnings\n",
    "warnings.simplefilter(action='ignore', category=FutureWarning)"
   ]
  },
  {
   "cell_type": "code",
   "execution_count": 2,
   "metadata": {
    "colab": {
     "base_uri": "https://localhost:8080/",
     "height": 255
    },
    "id": "OXBdFkmHFyIn",
    "outputId": "769c4018-ecb6-4495-f89d-5d9e63585e9e"
   },
   "outputs": [
    {
     "data": {
      "text/html": [
       "<div>\n",
       "<style scoped>\n",
       "    .dataframe tbody tr th:only-of-type {\n",
       "        vertical-align: middle;\n",
       "    }\n",
       "\n",
       "    .dataframe tbody tr th {\n",
       "        vertical-align: top;\n",
       "    }\n",
       "\n",
       "    .dataframe thead th {\n",
       "        text-align: right;\n",
       "    }\n",
       "</style>\n",
       "<table border=\"1\" class=\"dataframe\">\n",
       "  <thead>\n",
       "    <tr style=\"text-align: right;\">\n",
       "      <th></th>\n",
       "      <th>X1</th>\n",
       "      <th>Y1</th>\n",
       "      <th>X2</th>\n",
       "      <th>Y2</th>\n",
       "      <th>X3</th>\n",
       "      <th>Y3</th>\n",
       "      <th>X4</th>\n",
       "      <th>Y4</th>\n",
       "      <th>X5</th>\n",
       "      <th>Y5</th>\n",
       "      <th>...</th>\n",
       "      <th>P8</th>\n",
       "      <th>P9</th>\n",
       "      <th>P10</th>\n",
       "      <th>P11</th>\n",
       "      <th>P12</th>\n",
       "      <th>P13</th>\n",
       "      <th>P14</th>\n",
       "      <th>P15</th>\n",
       "      <th>P16</th>\n",
       "      <th>Powerall</th>\n",
       "    </tr>\n",
       "  </thead>\n",
       "  <tbody>\n",
       "    <tr>\n",
       "      <th>0</th>\n",
       "      <td>316.5855</td>\n",
       "      <td>223.9277</td>\n",
       "      <td>182.3434</td>\n",
       "      <td>551.5497</td>\n",
       "      <td>7.8641</td>\n",
       "      <td>243.1339</td>\n",
       "      <td>361.0877</td>\n",
       "      <td>115.9284</td>\n",
       "      <td>78.6087</td>\n",
       "      <td>468.3799</td>\n",
       "      <td>...</td>\n",
       "      <td>82322.0277</td>\n",
       "      <td>98069.1011</td>\n",
       "      <td>86578.6330</td>\n",
       "      <td>93016.4133</td>\n",
       "      <td>63145.1829</td>\n",
       "      <td>98353.1952</td>\n",
       "      <td>80225.1390</td>\n",
       "      <td>98447.2846</td>\n",
       "      <td>97570.2225</td>\n",
       "      <td>1370374.145</td>\n",
       "    </tr>\n",
       "    <tr>\n",
       "      <th>1</th>\n",
       "      <td>530.3136</td>\n",
       "      <td>68.7031</td>\n",
       "      <td>31.5983</td>\n",
       "      <td>175.2582</td>\n",
       "      <td>516.1441</td>\n",
       "      <td>63.4652</td>\n",
       "      <td>67.0954</td>\n",
       "      <td>369.4486</td>\n",
       "      <td>14.0930</td>\n",
       "      <td>375.4462</td>\n",
       "      <td>...</td>\n",
       "      <td>83920.1033</td>\n",
       "      <td>80968.0044</td>\n",
       "      <td>87108.1328</td>\n",
       "      <td>68065.1856</td>\n",
       "      <td>99061.3812</td>\n",
       "      <td>77549.1426</td>\n",
       "      <td>99013.1628</td>\n",
       "      <td>78234.4337</td>\n",
       "      <td>84633.6493</td>\n",
       "      <td>1340929.765</td>\n",
       "    </tr>\n",
       "    <tr>\n",
       "      <th>2</th>\n",
       "      <td>27.3967</td>\n",
       "      <td>399.0488</td>\n",
       "      <td>565.6854</td>\n",
       "      <td>394.0466</td>\n",
       "      <td>120.2245</td>\n",
       "      <td>558.1293</td>\n",
       "      <td>546.4520</td>\n",
       "      <td>27.3256</td>\n",
       "      <td>314.1051</td>\n",
       "      <td>235.9476</td>\n",
       "      <td>...</td>\n",
       "      <td>97358.7395</td>\n",
       "      <td>93437.7170</td>\n",
       "      <td>69940.2554</td>\n",
       "      <td>92864.1192</td>\n",
       "      <td>60887.8095</td>\n",
       "      <td>72306.6556</td>\n",
       "      <td>81151.1515</td>\n",
       "      <td>83030.9726</td>\n",
       "      <td>94779.6131</td>\n",
       "      <td>1352031.511</td>\n",
       "    </tr>\n",
       "    <tr>\n",
       "      <th>3</th>\n",
       "      <td>346.1526</td>\n",
       "      <td>59.6375</td>\n",
       "      <td>226.2742</td>\n",
       "      <td>280.9095</td>\n",
       "      <td>402.2161</td>\n",
       "      <td>218.7181</td>\n",
       "      <td>207.0407</td>\n",
       "      <td>339.5676</td>\n",
       "      <td>280.2195</td>\n",
       "      <td>319.1130</td>\n",
       "      <td>...</td>\n",
       "      <td>80399.3841</td>\n",
       "      <td>89349.6141</td>\n",
       "      <td>85048.3860</td>\n",
       "      <td>70038.2271</td>\n",
       "      <td>92797.3569</td>\n",
       "      <td>97653.8121</td>\n",
       "      <td>74903.3740</td>\n",
       "      <td>71690.6549</td>\n",
       "      <td>96220.4768</td>\n",
       "      <td>1396754.375</td>\n",
       "    </tr>\n",
       "    <tr>\n",
       "      <th>4</th>\n",
       "      <td>317.9144</td>\n",
       "      <td>551.8542</td>\n",
       "      <td>335.4745</td>\n",
       "      <td>40.0240</td>\n",
       "      <td>316.6285</td>\n",
       "      <td>365.6434</td>\n",
       "      <td>416.3060</td>\n",
       "      <td>562.1028</td>\n",
       "      <td>211.3577</td>\n",
       "      <td>143.1255</td>\n",
       "      <td>...</td>\n",
       "      <td>97088.1761</td>\n",
       "      <td>81187.3982</td>\n",
       "      <td>63591.6729</td>\n",
       "      <td>92418.1977</td>\n",
       "      <td>82454.8256</td>\n",
       "      <td>97091.7749</td>\n",
       "      <td>85937.5437</td>\n",
       "      <td>66823.1572</td>\n",
       "      <td>93683.0996</td>\n",
       "      <td>1355708.577</td>\n",
       "    </tr>\n",
       "  </tbody>\n",
       "</table>\n",
       "<p>5 rows × 49 columns</p>\n",
       "</div>"
      ],
      "text/plain": [
       "         X1        Y1        X2        Y2        X3        Y3        X4  \\\n",
       "0  316.5855  223.9277  182.3434  551.5497    7.8641  243.1339  361.0877   \n",
       "1  530.3136   68.7031   31.5983  175.2582  516.1441   63.4652   67.0954   \n",
       "2   27.3967  399.0488  565.6854  394.0466  120.2245  558.1293  546.4520   \n",
       "3  346.1526   59.6375  226.2742  280.9095  402.2161  218.7181  207.0407   \n",
       "4  317.9144  551.8542  335.4745   40.0240  316.6285  365.6434  416.3060   \n",
       "\n",
       "         Y4        X5        Y5  ...          P8          P9         P10  \\\n",
       "0  115.9284   78.6087  468.3799  ...  82322.0277  98069.1011  86578.6330   \n",
       "1  369.4486   14.0930  375.4462  ...  83920.1033  80968.0044  87108.1328   \n",
       "2   27.3256  314.1051  235.9476  ...  97358.7395  93437.7170  69940.2554   \n",
       "3  339.5676  280.2195  319.1130  ...  80399.3841  89349.6141  85048.3860   \n",
       "4  562.1028  211.3577  143.1255  ...  97088.1761  81187.3982  63591.6729   \n",
       "\n",
       "          P11         P12         P13         P14         P15         P16  \\\n",
       "0  93016.4133  63145.1829  98353.1952  80225.1390  98447.2846  97570.2225   \n",
       "1  68065.1856  99061.3812  77549.1426  99013.1628  78234.4337  84633.6493   \n",
       "2  92864.1192  60887.8095  72306.6556  81151.1515  83030.9726  94779.6131   \n",
       "3  70038.2271  92797.3569  97653.8121  74903.3740  71690.6549  96220.4768   \n",
       "4  92418.1977  82454.8256  97091.7749  85937.5437  66823.1572  93683.0996   \n",
       "\n",
       "      Powerall  \n",
       "0  1370374.145  \n",
       "1  1340929.765  \n",
       "2  1352031.511  \n",
       "3  1396754.375  \n",
       "4  1355708.577  \n",
       "\n",
       "[5 rows x 49 columns]"
      ]
     },
     "execution_count": 2,
     "metadata": {},
     "output_type": "execute_result"
    }
   ],
   "source": [
    "# load the Data set\n",
    "df=pd.read_csv('Group_14_Clean_Data.csv')\n",
    "df.head()"
   ]
  },
  {
   "cell_type": "code",
   "execution_count": 3,
   "metadata": {
    "id": "ON_z8XsmFyOe"
   },
   "outputs": [],
   "source": [
    "# Define features and target variable\n",
    "\n",
    "X = df.drop(columns=['Powerall']) \n",
    "y = df['Powerall'] "
   ]
  },
  {
   "cell_type": "code",
   "execution_count": 4,
   "metadata": {
    "id": "PGsbwp1rFyRz"
   },
   "outputs": [],
   "source": [
    "# Split data into train and test sets\n",
    "X_train, X_test, y_train, y_test = train_test_split(X, y, test_size=0.2, random_state=42)"
   ]
  },
  {
   "cell_type": "code",
   "execution_count": 5,
   "metadata": {
    "id": "8swSUAZtFyXW"
   },
   "outputs": [],
   "source": [
    "# Perform scaling after splitting\n",
    "scaler = StandardScaler()\n",
    "X_train_scaled = scaler.fit_transform(X_train)\n",
    "X_test_scaled = scaler.transform(X_test)"
   ]
  },
  {
   "cell_type": "code",
   "execution_count": null,
   "metadata": {},
   "outputs": [],
   "source": []
  },
  {
   "cell_type": "markdown",
   "metadata": {
    "id": "XdmvN0wzj8_V"
   },
   "source": [
    "**Explanation of Lasso Regression for Feature Selection**\n",
    "\n",
    "**Why Choose Lasso Regression?**\n",
    "\n",
    "Lasso Regression (Least Absolute Shrinkage and Selection Operator) is a powerful method for feature selection due to the following reasons:\n",
    "\n",
    "1. Automatic Feature Selection:\n",
    "\n",
    "  * Lasso applies L1 regularization, which adds a penalty proportional to the absolute value of the coefficients. This results in some coefficients shrinking to exactly zero.\n",
    "\n",
    "  * Features with zero coefficients are automatically excluded, making Lasso an efficient way to reduce dimensionality and retain only the most important features.\n",
    "\n",
    "2. Handles Multicollinearity:\n",
    "\n",
    "  * Lasso can handle multicollinearity (high correlation among features) by retaining only one of the highly correlated features, reducing redundancy in the dataset.\n",
    "\n",
    "3. Simple and Effective:\n",
    "\n",
    "  * Unlike wrapper methods that require multiple iterations of model building, Lasso selects features in a single step, saving computational resources.\n",
    "\n",
    "4. Interpretable Results:\n",
    "\n",
    "  * The selected features and their coefficients provide a clear understanding of their impact on the target variable.\n",
    "\n",
    "**Reason of ussing Lasso:**\n",
    "\n",
    "* The dataset contains a large number of features (positions and power outputs for multiple WECs).\n",
    "\n",
    "* Not all features are equally important for predicting Powerall.\n",
    "\n",
    "* Lasso identifies the most relevant features, improving model performance and interpretability while reducing overfitting.\n"
   ]
  },
  {
   "cell_type": "code",
   "execution_count": 15,
   "metadata": {
    "id": "6Nxa7FViVXCO"
   },
   "outputs": [
    {
     "name": "stdout",
     "output_type": "stream",
     "text": [
      "Selected Features by Lasso: ['P1', 'P2', 'P3', 'P4', 'P5', 'P6', 'P7', 'P8', 'P9', 'P10', 'P11', 'P12', 'P13', 'P14', 'P15', 'P16']\n"
     ]
    }
   ],
   "source": [
    "from sklearn.linear_model import LassoCV\n",
    "\n",
    "lasso = LassoCV(cv=3, random_state=42)\n",
    "lasso.fit(X_train_scaled, y_train)\n",
    "\n",
    "# Identify important features\n",
    "lasso_importances = pd.Series(data=lasso.coef_, index=X.columns)\n",
    "important_features = lasso_importances[lasso_importances != 0].index\n",
    "print(\"Selected Features by Lasso:\", important_features.tolist())"
   ]
  },
  {
   "cell_type": "code",
   "execution_count": 16,
   "metadata": {
    "id": "7a6ACzfcXI8u"
   },
   "outputs": [],
   "source": [
    "# Rebuild dataset with selected features\n",
    "X_train_selected = X_train[important_features]\n",
    "X_test_selected = X_test[important_features]"
   ]
  },
  {
   "cell_type": "code",
   "execution_count": 17,
   "metadata": {
    "id": "A0RJ9WcpXLoB"
   },
   "outputs": [],
   "source": [
    "# Scale selected features\n",
    "scaler_selected = StandardScaler()\n",
    "X_train_selected_scaled = scaler_selected.fit_transform(X_train_selected)\n",
    "X_test_selected_scaled = scaler_selected.transform(X_test_selected)"
   ]
  },
  {
   "cell_type": "code",
   "execution_count": 18,
   "metadata": {},
   "outputs": [],
   "source": [
    "# Initialize models\n",
    "models_selected= {\n",
    "    \"Linear_Regression\": LinearRegression(),\n",
    "    \"K_Nearest_Neighbors\": KNeighborsRegressor(n_neighbors=5),\n",
    "    \"Random_Forest\": RandomForestRegressor(n_estimators=50,max_depth= 10,random_state=42),\n",
    "    \"SVM_Linear_Kernel\": SVR(kernel=\"linear\"),\n",
    "    \"SVM_RBF_Kernel\": SVR(kernel='rbf',C=100,gamma=0.1),\n",
    "    \"Gradient_Boosting\": GradientBoostingRegressor(n_estimators=50, max_depth=3, random_state=42)\n",
    "}"
   ]
  },
  {
   "cell_type": "code",
   "execution_count": 19,
   "metadata": {
    "id": "qiRbYwYYXMaD"
   },
   "outputs": [],
   "source": [
    "# Rebuild models with selected features\n",
    "results_selected = {}\n",
    "for model_name, model in models_selected.items():\n",
    "    model.fit(X_train_selected_scaled, y_train)\n",
    "    y_train_pred = model.predict(X_train_selected_scaled)\n",
    "    y_test_pred = model.predict(X_test_selected_scaled)\n",
    "\n",
    "    train_rmse = np.sqrt(mean_squared_error(y_train, y_train_pred))\n",
    "    test_rmse = np.sqrt(mean_squared_error(y_test, y_test_pred))\n",
    "    train_r2 = r2_score(y_train, y_train_pred)\n",
    "    test_r2 = r2_score(y_test, y_test_pred)\n",
    "\n",
    "    results_selected[model_name] = {\"Train_RMSE\": train_rmse, \"Test_RMSE\": test_rmse,\n",
    "                                    \"Train_R2\": train_r2, \"Test_R2\": test_r2}"
   ]
  },
  {
   "cell_type": "code",
   "execution_count": 24,
   "metadata": {
    "id": "mj5UNro0XQUI"
   },
   "outputs": [
    {
     "data": {
      "text/html": [
       "<div>\n",
       "<style scoped>\n",
       "    .dataframe tbody tr th:only-of-type {\n",
       "        vertical-align: middle;\n",
       "    }\n",
       "\n",
       "    .dataframe tbody tr th {\n",
       "        vertical-align: top;\n",
       "    }\n",
       "\n",
       "    .dataframe thead th {\n",
       "        text-align: right;\n",
       "    }\n",
       "</style>\n",
       "<table border=\"1\" class=\"dataframe\">\n",
       "  <thead>\n",
       "    <tr style=\"text-align: right;\">\n",
       "      <th></th>\n",
       "      <th>Train_RMSE</th>\n",
       "      <th>Test_RMSE</th>\n",
       "      <th>Train_R2</th>\n",
       "      <th>Test_R2</th>\n",
       "    </tr>\n",
       "  </thead>\n",
       "  <tbody>\n",
       "    <tr>\n",
       "      <th>Linear_Regression</th>\n",
       "      <td>370.009543</td>\n",
       "      <td>230.190600</td>\n",
       "      <td>0.999955</td>\n",
       "      <td>0.999983</td>\n",
       "    </tr>\n",
       "    <tr>\n",
       "      <th>K_Nearest_Neighbors</th>\n",
       "      <td>13283.319359</td>\n",
       "      <td>16353.409818</td>\n",
       "      <td>0.942151</td>\n",
       "      <td>0.914315</td>\n",
       "    </tr>\n",
       "    <tr>\n",
       "      <th>Random_Forest</th>\n",
       "      <td>20786.467203</td>\n",
       "      <td>22968.382043</td>\n",
       "      <td>0.858341</td>\n",
       "      <td>0.830976</td>\n",
       "    </tr>\n",
       "    <tr>\n",
       "      <th>SVM_Linear_Kernel</th>\n",
       "      <td>370.072019</td>\n",
       "      <td>229.977084</td>\n",
       "      <td>0.999955</td>\n",
       "      <td>0.999983</td>\n",
       "    </tr>\n",
       "    <tr>\n",
       "      <th>SVM_RBF_Kernel</th>\n",
       "      <td>17172.558568</td>\n",
       "      <td>17325.680147</td>\n",
       "      <td>0.903316</td>\n",
       "      <td>0.903824</td>\n",
       "    </tr>\n",
       "    <tr>\n",
       "      <th>Gradient_Boosting</th>\n",
       "      <td>18371.891596</td>\n",
       "      <td>18898.750074</td>\n",
       "      <td>0.889340</td>\n",
       "      <td>0.885566</td>\n",
       "    </tr>\n",
       "  </tbody>\n",
       "</table>\n",
       "</div>"
      ],
      "text/plain": [
       "                       Train_RMSE     Test_RMSE  Train_R2   Test_R2\n",
       "Linear_Regression      370.009543    230.190600  0.999955  0.999983\n",
       "K_Nearest_Neighbors  13283.319359  16353.409818  0.942151  0.914315\n",
       "Random_Forest        20786.467203  22968.382043  0.858341  0.830976\n",
       "SVM_Linear_Kernel      370.072019    229.977084  0.999955  0.999983\n",
       "SVM_RBF_Kernel       17172.558568  17325.680147  0.903316  0.903824\n",
       "Gradient_Boosting    18371.891596  18898.750074  0.889340  0.885566"
      ]
     },
     "execution_count": 24,
     "metadata": {},
     "output_type": "execute_result"
    }
   ],
   "source": [
    "# Convert results to DataFrame\n",
    "results_selected_df = pd.DataFrame(results_selected).T\n",
    "results_selected_df"
   ]
  },
  {
   "cell_type": "markdown",
   "metadata": {
    "id": "NEKNlLVgg5jV"
   },
   "source": [
    "After feature selection, the results highlight the following:\n",
    "\n",
    "1. Linear Regression and SVM (Linear Kernel): Top performers with near-perfect R² scores (0.9999) and minimal RMSE values (370.01 Train, 230.19 Test). Best suited for this dataset due to its linear relationships.\n",
    "\n",
    "2. K-Nearest Neighbors: Moderate performance with R² (0.9143 Test) and higher RMSE (16,353 Test).\n",
    "\n",
    "3. Random Forest and Gradient Boosting: Reasonable but less accurate, with lower R² (0.8309 Test) and higher RMSE values.\n",
    "\n",
    "4. SVM (RBF Kernel): Decent performance (0.9038 Test R²) but outperformed by linear models.\n",
    "\n",
    "Linear Regression and SVM (Linear Kernel) are the best models after feature selection. Future work should focus on optimizing these models."
   ]
  },
  {
   "cell_type": "markdown",
   "metadata": {
    "id": "SoBNuz87lM7w"
   },
   "source": [
    "## Step 4.3: Hyperparameter Tuning"
   ]
  },
  {
   "cell_type": "code",
   "execution_count": 25,
   "metadata": {
    "id": "0GPxJarbgLXJ"
   },
   "outputs": [],
   "source": [
    "from sklearn.model_selection import RandomizedSearchCV\n",
    "\n",
    "# Define parameter grids for each model\n",
    "param_grids = {\n",
    "    \"K_Nearest_Neighbors\": {\n",
    "        \"n_neighbors\": [3, 5, 10, 20],\n",
    "        \"weights\": ['uniform', 'distance']\n",
    "    },\n",
    "    \"Random_Forest\": {\n",
    "        \"n_estimators\": [50, 100, 200],\n",
    "        \"max_depth\": [None, 10, 20]\n",
    "    },\n",
    "    \"SVM_Linear_Kernel\": {\n",
    "        \"C\": [0.1, 1, 10]\n",
    "    },\n",
    "    \"SVM_RBF_Kernel\": {\n",
    "        \"C\": [0.1, 1, 10],\n",
    "        \"gamma\": ['scale', 'auto']\n",
    "    },\n",
    "    \"Gradient_Boosting\": {\n",
    "        \"n_estimators\": [50, 100, 200],\n",
    "        \"learning_rate\": [0.01, 0.1, 0.2]\n",
    "    }\n",
    "}\n"
   ]
  },
  {
   "cell_type": "code",
   "execution_count": 29,
   "metadata": {},
   "outputs": [],
   "source": [
    "warnings.simplefilter(action='ignore', category=UserWarning)"
   ]
  },
  {
   "cell_type": "code",
   "execution_count": 31,
   "metadata": {
    "id": "gnU0g5SAmKqn"
   },
   "outputs": [
    {
     "name": "stdout",
     "output_type": "stream",
     "text": [
      "Tuning K_Nearest_Neighbors...\n",
      "Best Parameters for K_Nearest_Neighbors: {'weights': 'distance', 'n_neighbors': 10}\n",
      "Tuning Random_Forest...\n",
      "Best Parameters for Random_Forest: {'n_estimators': 200, 'max_depth': None}\n",
      "Tuning SVM_Linear_Kernel...\n",
      "Best Parameters for SVM_Linear_Kernel: {'C': 10}\n",
      "Tuning SVM_RBF_Kernel...\n",
      "Best Parameters for SVM_RBF_Kernel: {'gamma': 'scale', 'C': 10}\n",
      "Tuning Gradient_Boosting...\n",
      "Best Parameters for Gradient_Boosting: {'n_estimators': 200, 'learning_rate': 0.2}\n"
     ]
    }
   ],
   "source": [
    "# Perform Random Search for each model\n",
    "tuned_models = {}\n",
    "best_params = {}\n",
    "\n",
    "for model_name, model in models_original.items():\n",
    "    if model_name in param_grids:  # Skip Linear Regression (no hyperparameters)\n",
    "        print(f\"Tuning {model_name}...\")\n",
    "        rand_search = RandomizedSearchCV(\n",
    "            estimator=model,\n",
    "            param_distributions=param_grids[model_name],  \n",
    "            scoring='neg_mean_squared_error',\n",
    "            cv=3,\n",
    "            random_state=42,\n",
    "            n_iter=10\n",
    "        )\n",
    "        rand_search.fit(X_train_scaled, y_train)\n",
    "        tuned_models[model_name] = rand_search.best_estimator_\n",
    "        best_params[model_name] = rand_search.best_params_\n",
    "        print(f\"Best Parameters for {model_name}: {rand_search.best_params_}\")"
   ]
  },
  {
   "cell_type": "code",
   "execution_count": 32,
   "metadata": {
    "id": "3ErEBztJmbC7"
   },
   "outputs": [],
   "source": [
    "# Store results for tuned models\n",
    "tuned_results = {}\n",
    "\n",
    "for model_name, model in tuned_models.items():\n",
    "    y_train_pred = model.predict(X_train_scaled)\n",
    "    y_test_pred = model.predict(X_test_scaled)\n",
    "\n",
    "    train_rmse = np.sqrt(mean_squared_error(y_train, y_train_pred))\n",
    "    test_rmse = np.sqrt(mean_squared_error(y_test, y_test_pred))\n",
    "    train_r2 = r2_score(y_train, y_train_pred)\n",
    "    test_r2 = r2_score(y_test, y_test_pred)\n",
    "\n",
    "    tuned_results[model_name] = {\"Train_RMSE\": train_rmse, \"Test_RMSE\": test_rmse,\n",
    "                                 \"Train_R2\": train_r2, \"Test_R2\": test_r2}"
   ]
  },
  {
   "cell_type": "code",
   "execution_count": 33,
   "metadata": {
    "id": "evl4Ehb1uPZa"
   },
   "outputs": [
    {
     "name": "stdout",
     "output_type": "stream",
     "text": [
      "                       Train_RMSE     Test_RMSE  Train_R2   Test_R2\n",
      "K_Nearest_Neighbors      0.003368  19117.054832  1.000000  0.882907\n",
      "Random_Forest         6125.410789  16396.287382  0.987699  0.913865\n",
      "SVM_Linear_Kernel      370.071964    229.977465  0.999955  0.999983\n",
      "SVM_RBF_Kernel       47754.606530  48428.936874  0.252324  0.248553\n",
      "Gradient_Boosting     6720.336957   7247.047816  0.985193  0.983173\n"
     ]
    }
   ],
   "source": [
    "# Convert results to DataFrame\n",
    "tuned_results_df = pd.DataFrame(tuned_results).T\n",
    "print(tuned_results_df)"
   ]
  },
  {
   "cell_type": "code",
   "execution_count": 34,
   "metadata": {
    "id": "xsk7Vz-Xubp9"
   },
   "outputs": [],
   "source": [
    "# Visualize performance before and after tuning\n",
    "original_results_df = pd.DataFrame(results).T"
   ]
  },
  {
   "cell_type": "code",
   "execution_count": 35,
   "metadata": {
    "id": "_hzoHJFwuheD"
   },
   "outputs": [
    {
     "data": {
      "image/png": "[encoded data removed]",
      "text/plain": [
       "<Figure size 1500x600 with 2 Axes>"
      ]
     },
     "metadata": {},
     "output_type": "display_data"
    }
   ],
   "source": [
    "# Set up a figure with two subplots\n",
    "fig, axes = plt.subplots(1, 2, figsize=(15, 6), sharey=True)\n",
    "\n",
    "# Plot Original Results\n",
    "axes[0].bar(original_results_df.index, original_results_df[\"Test_RMSE\"], color='blue', alpha=0.7)\n",
    "axes[0].set_title(\"Test RMSE - Before Tuning\")\n",
    "axes[0].set_ylabel(\"Test RMSE\")\n",
    "axes[0].tick_params(axis='x', rotation=45)\n",
    "\n",
    "# Plot Tuned Results\n",
    "axes[1].bar(tuned_results_df.index, tuned_results_df[\"Test_RMSE\"], color='green', alpha=0.7)\n",
    "axes[1].set_title(\"Test RMSE - After Tuning\")\n",
    "axes[1].tick_params(axis='x', rotation=45)\n",
    "\n",
    "for i, val in enumerate(original_results_df[\"Test_RMSE\"]):\n",
    "    axes[0].text(i, val, f\"{val:.2f}\", ha='center', va='bottom', fontsize=10)\n",
    "for i, val in enumerate(tuned_results_df[\"Test_RMSE\"]):\n",
    "    axes[1].text(i, val, f\"{val:.2f}\", ha='center', va='bottom', fontsize=10)\n",
    "\n",
    "# Adjust layout\n",
    "plt.tight_layout()\n",
    "plt.show()"
   ]
  },
  {
   "cell_type": "code",
   "execution_count": 36,
   "metadata": {
    "id": "wfPH2Wnqujpc"
   },
   "outputs": [
    {
     "data": {
      "image/png": "[encoded data removed]",
      "text/plain": [
       "<Figure size 1500x600 with 2 Axes>"
      ]
     },
     "metadata": {},
     "output_type": "display_data"
    }
   ],
   "source": [
    "# Set up a figure with two subplots\n",
    "fig, axes = plt.subplots(1, 2, figsize=(15, 6), sharey=True)\n",
    "\n",
    "# Plot Original Results\n",
    "axes[0].bar(original_results_df.index, original_results_df[\"Test_R2\"], color='blue', alpha=0.7)\n",
    "axes[0].set_title(\"Test R² - Before Tuning\")\n",
    "axes[0].set_ylabel(\"Test R²\")\n",
    "axes[0].tick_params(axis='x', rotation=45)\n",
    "\n",
    "# Plot Tuned Results\n",
    "axes[1].bar(tuned_results_df.index, tuned_results_df[\"Test_R2\"], color='green', alpha=0.7)\n",
    "axes[1].set_title(\"Test R² - After Tuning\")\n",
    "axes[1].tick_params(axis='x', rotation=45)\n",
    "\n",
    "for i, val in enumerate(original_results_df[\"Test_R2\"]):\n",
    "    axes[0].text(i, val, f\"{val:.2f}\", ha='center', va='bottom', fontsize=10)\n",
    "for i, val in enumerate(tuned_results_df[\"Test_R2\"]):\n",
    "    axes[1].text(i, val, f\"{val:.2f}\", ha='center', va='bottom', fontsize=10)\n",
    "\n",
    "# Adjust layout\n",
    "plt.tight_layout()\n",
    "plt.show()\n"
   ]
  }
 ],
 "metadata": {
  "accelerator": "GPU",
  "colab": {
   "gpuType": "T4",
   "provenance": []
  },
  "kernelspec": {
   "display_name": "Python 3 (ipykernel)",
   "language": "python",
   "name": "python3"
  },
  "language_info": {
   "codemirror_mode": {
    "name": "ipython",
    "version": 3
   },
   "file_extension": ".py",
   "mimetype": "text/x-python",
   "name": "python",
   "nbconvert_exporter": "python",
   "pygments_lexer": "ipython3",
   "version": "3.12.4"
  }
 },
 "nbformat": 4,
 "nbformat_minor": 4
}
