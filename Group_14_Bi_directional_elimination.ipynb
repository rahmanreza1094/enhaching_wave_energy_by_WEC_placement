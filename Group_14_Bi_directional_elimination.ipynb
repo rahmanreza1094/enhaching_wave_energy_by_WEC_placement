{
 "cells": [
  {
   "cell_type": "markdown",
   "metadata": {
    "id": "TzeBLq-QwlTM"
   },
   "source": [
    "## Step 4.4: Bi-Directional Elimination for Feature Selection\n",
    "\n",
    "To perform another round of feature selection using a wrapper method called bi-directional elimination. This method iteratively adds and removes features to identify the optimal subset for predicting the target variable (Powerall)."
   ]
  },
  {
   "cell_type": "code",
   "execution_count": 1,
   "metadata": {
    "id": "VL2xARXwFKYS"
   },
   "outputs": [],
   "source": [
    "import pandas as pd\n",
    "import numpy as np\n",
    "import matplotlib.pyplot as plt\n",
    "import seaborn as sns\n",
    "\n",
    "from sklearn.model_selection import train_test_split\n",
    "from sklearn.preprocessing import StandardScaler\n",
    "\n",
    "from sklearn.linear_model import LinearRegression\n",
    "from sklearn.neighbors import KNeighborsRegressor\n",
    "from sklearn.ensemble import RandomForestRegressor, GradientBoostingRegressor\n",
    "from sklearn.svm import SVR\n",
    "\n",
    "from sklearn.metrics import mean_squared_error,r2_score\n",
    "\n",
    "import warnings\n",
    "warnings.simplefilter(action='ignore', category=FutureWarning)"
   ]
  },
  {
   "cell_type": "code",
   "execution_count": 2,
   "metadata": {
    "colab": {
     "base_uri": "https://localhost:8080/",
     "height": 255
    },
    "id": "OXBdFkmHFyIn",
    "outputId": "769c4018-ecb6-4495-f89d-5d9e63585e9e"
   },
   "outputs": [
    {
     "data": {
      "text/html": [
       "<div>\n",
       "<style scoped>\n",
       "    .dataframe tbody tr th:only-of-type {\n",
       "        vertical-align: middle;\n",
       "    }\n",
       "\n",
       "    .dataframe tbody tr th {\n",
       "        vertical-align: top;\n",
       "    }\n",
       "\n",
       "    .dataframe thead th {\n",
       "        text-align: right;\n",
       "    }\n",
       "</style>\n",
       "<table border=\"1\" class=\"dataframe\">\n",
       "  <thead>\n",
       "    <tr style=\"text-align: right;\">\n",
       "      <th></th>\n",
       "      <th>X1</th>\n",
       "      <th>Y1</th>\n",
       "      <th>X2</th>\n",
       "      <th>Y2</th>\n",
       "      <th>X3</th>\n",
       "      <th>Y3</th>\n",
       "      <th>X4</th>\n",
       "      <th>Y4</th>\n",
       "      <th>X5</th>\n",
       "      <th>Y5</th>\n",
       "      <th>...</th>\n",
       "      <th>P8</th>\n",
       "      <th>P9</th>\n",
       "      <th>P10</th>\n",
       "      <th>P11</th>\n",
       "      <th>P12</th>\n",
       "      <th>P13</th>\n",
       "      <th>P14</th>\n",
       "      <th>P15</th>\n",
       "      <th>P16</th>\n",
       "      <th>Powerall</th>\n",
       "    </tr>\n",
       "  </thead>\n",
       "  <tbody>\n",
       "    <tr>\n",
       "      <th>0</th>\n",
       "      <td>316.5855</td>\n",
       "      <td>223.9277</td>\n",
       "      <td>182.3434</td>\n",
       "      <td>551.5497</td>\n",
       "      <td>7.8641</td>\n",
       "      <td>243.1339</td>\n",
       "      <td>361.0877</td>\n",
       "      <td>115.9284</td>\n",
       "      <td>78.6087</td>\n",
       "      <td>468.3799</td>\n",
       "      <td>...</td>\n",
       "      <td>82322.0277</td>\n",
       "      <td>98069.1011</td>\n",
       "      <td>86578.6330</td>\n",
       "      <td>93016.4133</td>\n",
       "      <td>63145.1829</td>\n",
       "      <td>98353.1952</td>\n",
       "      <td>80225.1390</td>\n",
       "      <td>98447.2846</td>\n",
       "      <td>97570.2225</td>\n",
       "      <td>1370374.145</td>\n",
       "    </tr>\n",
       "    <tr>\n",
       "      <th>1</th>\n",
       "      <td>530.3136</td>\n",
       "      <td>68.7031</td>\n",
       "      <td>31.5983</td>\n",
       "      <td>175.2582</td>\n",
       "      <td>516.1441</td>\n",
       "      <td>63.4652</td>\n",
       "      <td>67.0954</td>\n",
       "      <td>369.4486</td>\n",
       "      <td>14.0930</td>\n",
       "      <td>375.4462</td>\n",
       "      <td>...</td>\n",
       "      <td>83920.1033</td>\n",
       "      <td>80968.0044</td>\n",
       "      <td>87108.1328</td>\n",
       "      <td>68065.1856</td>\n",
       "      <td>99061.3812</td>\n",
       "      <td>77549.1426</td>\n",
       "      <td>99013.1628</td>\n",
       "      <td>78234.4337</td>\n",
       "      <td>84633.6493</td>\n",
       "      <td>1340929.765</td>\n",
       "    </tr>\n",
       "    <tr>\n",
       "      <th>2</th>\n",
       "      <td>27.3967</td>\n",
       "      <td>399.0488</td>\n",
       "      <td>565.6854</td>\n",
       "      <td>394.0466</td>\n",
       "      <td>120.2245</td>\n",
       "      <td>558.1293</td>\n",
       "      <td>546.4520</td>\n",
       "      <td>27.3256</td>\n",
       "      <td>314.1051</td>\n",
       "      <td>235.9476</td>\n",
       "      <td>...</td>\n",
       "      <td>97358.7395</td>\n",
       "      <td>93437.7170</td>\n",
       "      <td>69940.2554</td>\n",
       "      <td>92864.1192</td>\n",
       "      <td>60887.8095</td>\n",
       "      <td>72306.6556</td>\n",
       "      <td>81151.1515</td>\n",
       "      <td>83030.9726</td>\n",
       "      <td>94779.6131</td>\n",
       "      <td>1352031.511</td>\n",
       "    </tr>\n",
       "    <tr>\n",
       "      <th>3</th>\n",
       "      <td>346.1526</td>\n",
       "      <td>59.6375</td>\n",
       "      <td>226.2742</td>\n",
       "      <td>280.9095</td>\n",
       "      <td>402.2161</td>\n",
       "      <td>218.7181</td>\n",
       "      <td>207.0407</td>\n",
       "      <td>339.5676</td>\n",
       "      <td>280.2195</td>\n",
       "      <td>319.1130</td>\n",
       "      <td>...</td>\n",
       "      <td>80399.3841</td>\n",
       "      <td>89349.6141</td>\n",
       "      <td>85048.3860</td>\n",
       "      <td>70038.2271</td>\n",
       "      <td>92797.3569</td>\n",
       "      <td>97653.8121</td>\n",
       "      <td>74903.3740</td>\n",
       "      <td>71690.6549</td>\n",
       "      <td>96220.4768</td>\n",
       "      <td>1396754.375</td>\n",
       "    </tr>\n",
       "    <tr>\n",
       "      <th>4</th>\n",
       "      <td>317.9144</td>\n",
       "      <td>551.8542</td>\n",
       "      <td>335.4745</td>\n",
       "      <td>40.0240</td>\n",
       "      <td>316.6285</td>\n",
       "      <td>365.6434</td>\n",
       "      <td>416.3060</td>\n",
       "      <td>562.1028</td>\n",
       "      <td>211.3577</td>\n",
       "      <td>143.1255</td>\n",
       "      <td>...</td>\n",
       "      <td>97088.1761</td>\n",
       "      <td>81187.3982</td>\n",
       "      <td>63591.6729</td>\n",
       "      <td>92418.1977</td>\n",
       "      <td>82454.8256</td>\n",
       "      <td>97091.7749</td>\n",
       "      <td>85937.5437</td>\n",
       "      <td>66823.1572</td>\n",
       "      <td>93683.0996</td>\n",
       "      <td>1355708.577</td>\n",
       "    </tr>\n",
       "  </tbody>\n",
       "</table>\n",
       "<p>5 rows × 49 columns</p>\n",
       "</div>"
      ],
      "text/plain": [
       "         X1        Y1        X2        Y2        X3        Y3        X4  \\\n",
       "0  316.5855  223.9277  182.3434  551.5497    7.8641  243.1339  361.0877   \n",
       "1  530.3136   68.7031   31.5983  175.2582  516.1441   63.4652   67.0954   \n",
       "2   27.3967  399.0488  565.6854  394.0466  120.2245  558.1293  546.4520   \n",
       "3  346.1526   59.6375  226.2742  280.9095  402.2161  218.7181  207.0407   \n",
       "4  317.9144  551.8542  335.4745   40.0240  316.6285  365.6434  416.3060   \n",
       "\n",
       "         Y4        X5        Y5  ...          P8          P9         P10  \\\n",
       "0  115.9284   78.6087  468.3799  ...  82322.0277  98069.1011  86578.6330   \n",
       "1  369.4486   14.0930  375.4462  ...  83920.1033  80968.0044  87108.1328   \n",
       "2   27.3256  314.1051  235.9476  ...  97358.7395  93437.7170  69940.2554   \n",
       "3  339.5676  280.2195  319.1130  ...  80399.3841  89349.6141  85048.3860   \n",
       "4  562.1028  211.3577  143.1255  ...  97088.1761  81187.3982  63591.6729   \n",
       "\n",
       "          P11         P12         P13         P14         P15         P16  \\\n",
       "0  93016.4133  63145.1829  98353.1952  80225.1390  98447.2846  97570.2225   \n",
       "1  68065.1856  99061.3812  77549.1426  99013.1628  78234.4337  84633.6493   \n",
       "2  92864.1192  60887.8095  72306.6556  81151.1515  83030.9726  94779.6131   \n",
       "3  70038.2271  92797.3569  97653.8121  74903.3740  71690.6549  96220.4768   \n",
       "4  92418.1977  82454.8256  97091.7749  85937.5437  66823.1572  93683.0996   \n",
       "\n",
       "      Powerall  \n",
       "0  1370374.145  \n",
       "1  1340929.765  \n",
       "2  1352031.511  \n",
       "3  1396754.375  \n",
       "4  1355708.577  \n",
       "\n",
       "[5 rows x 49 columns]"
      ]
     },
     "execution_count": 2,
     "metadata": {},
     "output_type": "execute_result"
    }
   ],
   "source": [
    "# load the Data set\n",
    "df=pd.read_csv('Group_14_Clean_Data.csv')\n",
    "df.head()"
   ]
  },
  {
   "cell_type": "code",
   "execution_count": 3,
   "metadata": {
    "id": "ON_z8XsmFyOe"
   },
   "outputs": [],
   "source": [
    "# Define features and target variable\n",
    "\n",
    "X = df.drop(columns=['Powerall']) \n",
    "y = df['Powerall'] "
   ]
  },
  {
   "cell_type": "code",
   "execution_count": 4,
   "metadata": {
    "id": "PGsbwp1rFyRz"
   },
   "outputs": [],
   "source": [
    "# Split data into train and test sets\n",
    "X_train, X_test, y_train, y_test = train_test_split(X, y, test_size=0.2, random_state=42)"
   ]
  },
  {
   "cell_type": "code",
   "execution_count": 5,
   "metadata": {
    "id": "8swSUAZtFyXW"
   },
   "outputs": [],
   "source": [
    "# Perform scaling after splitting\n",
    "scaler = StandardScaler()\n",
    "X_train_scaled = scaler.fit_transform(X_train)\n",
    "X_test_scaled = scaler.transform(X_test)"
   ]
  },
  {
   "cell_type": "code",
   "execution_count": 37,
   "metadata": {
    "id": "UO0wl96fwoK7"
   },
   "outputs": [],
   "source": [
    "from sklearn.feature_selection import SequentialFeatureSelector\n",
    "\n",
    "linear_model = LinearRegression()"
   ]
  },
  {
   "cell_type": "code",
   "execution_count": 38,
   "metadata": {
    "id": "sV557XKyw5yq"
   },
   "outputs": [],
   "source": [
    "# Perform Bi-Directional Elimination\n",
    "bi_directional_selector = SequentialFeatureSelector(\n",
    "    estimator=linear_model,\n",
    "    n_features_to_select=\"auto\",  \n",
    "    direction='forward',  \n",
    "    scoring='r2',  \n",
    "    cv=3\n",
    ")"
   ]
  },
  {
   "cell_type": "code",
   "execution_count": 39,
   "metadata": {
    "id": "BLmyMjBIw_S2"
   },
   "outputs": [
    {
     "name": "stdout",
     "output_type": "stream",
     "text": [
      "Selected Features: Index(['Y3', 'Y4', 'X7', 'X12', 'Y12', 'X14', 'Y15', 'X16', 'P1', 'P2', 'P3',\n",
      "       'P4', 'P5', 'P6', 'P7', 'P8', 'P9', 'P10', 'P11', 'P12', 'P13', 'P14',\n",
      "       'P15', 'P16'],\n",
      "      dtype='object')\n"
     ]
    }
   ],
   "source": [
    "# Fit the selector\n",
    "bi_directional_selector.fit(X_train_scaled, y_train)\n",
    "\n",
    "# Selected features\n",
    "selected_features = X.columns[bi_directional_selector.get_support()]\n",
    "print(\"Selected Features:\", selected_features)\n"
   ]
  },
  {
   "cell_type": "code",
   "execution_count": 40,
   "metadata": {
    "id": "9caCJwZcxETJ"
   },
   "outputs": [],
   "source": [
    "# Create reduced datasets\n",
    "X_train_selected = X_train_scaled[:, bi_directional_selector.get_support()]\n",
    "X_test_selected = X_test_scaled[:, bi_directional_selector.get_support()]"
   ]
  },
  {
   "cell_type": "code",
   "execution_count": 41,
   "metadata": {},
   "outputs": [],
   "source": [
    "models_Feature_select= {\n",
    "    \"Linear_Regression\": LinearRegression(),\n",
    "    \"K_Nearest_Neighbors\": KNeighborsRegressor(n_neighbors=5),\n",
    "    \"Random_Forest\": RandomForestRegressor(n_estimators=50,max_depth= 10,random_state=42),\n",
    "    \"SVM_Linear_Kernel\": SVR(kernel=\"linear\"),\n",
    "    \"SVM_RBF_Kernel\": SVR(kernel='rbf',C=100,gamma=0.1),\n",
    "    \"Gradient_Boosting\": GradientBoostingRegressor(n_estimators=50, max_depth=3, random_state=42)\n",
    "}"
   ]
  },
  {
   "cell_type": "code",
   "execution_count": 42,
   "metadata": {
    "id": "7uOZlnn1xQNz"
   },
   "outputs": [],
   "source": [
    "# Train models on selected features\n",
    "final_results = {}\n",
    "for model_name, model in models_Feature_select.items():\n",
    "    model.fit(X_train_selected, y_train)\n",
    "    y_train_pred = model.predict(X_train_selected)\n",
    "    y_test_pred = model.predict(X_test_selected)\n",
    "\n",
    "    train_rmse = np.sqrt(mean_squared_error(y_train, y_train_pred))\n",
    "    test_rmse = np.sqrt(mean_squared_error(y_test, y_test_pred))\n",
    "    train_r2 = r2_score(y_train, y_train_pred)\n",
    "    test_r2 = r2_score(y_test, y_test_pred)\n",
    "\n",
    "    final_results[model_name] = {\"Train_RMSE\": train_rmse, \"Test_RMSE\": test_rmse,\n",
    "                                 \"Train_R2\": train_r2, \"Test_R2\": test_r2}"
   ]
  },
  {
   "cell_type": "code",
   "execution_count": 43,
   "metadata": {
    "id": "FddJVu0ExV1s"
   },
   "outputs": [
    {
     "data": {
      "text/html": [
       "<div>\n",
       "<style scoped>\n",
       "    .dataframe tbody tr th:only-of-type {\n",
       "        vertical-align: middle;\n",
       "    }\n",
       "\n",
       "    .dataframe tbody tr th {\n",
       "        vertical-align: top;\n",
       "    }\n",
       "\n",
       "    .dataframe thead th {\n",
       "        text-align: right;\n",
       "    }\n",
       "</style>\n",
       "<table border=\"1\" class=\"dataframe\">\n",
       "  <thead>\n",
       "    <tr style=\"text-align: right;\">\n",
       "      <th></th>\n",
       "      <th>Train_RMSE</th>\n",
       "      <th>Test_RMSE</th>\n",
       "      <th>Train_R2</th>\n",
       "      <th>Test_R2</th>\n",
       "    </tr>\n",
       "  </thead>\n",
       "  <tbody>\n",
       "    <tr>\n",
       "      <th>Linear_Regression</th>\n",
       "      <td>369.958181</td>\n",
       "      <td>230.296733</td>\n",
       "      <td>0.999955</td>\n",
       "      <td>0.999983</td>\n",
       "    </tr>\n",
       "    <tr>\n",
       "      <th>K_Nearest_Neighbors</th>\n",
       "      <td>14996.456335</td>\n",
       "      <td>18327.087436</td>\n",
       "      <td>0.926267</td>\n",
       "      <td>0.892384</td>\n",
       "    </tr>\n",
       "    <tr>\n",
       "      <th>Random_Forest</th>\n",
       "      <td>20847.298757</td>\n",
       "      <td>23107.040965</td>\n",
       "      <td>0.857511</td>\n",
       "      <td>0.828929</td>\n",
       "    </tr>\n",
       "    <tr>\n",
       "      <th>SVM_Linear_Kernel</th>\n",
       "      <td>370.072199</td>\n",
       "      <td>229.977526</td>\n",
       "      <td>0.999955</td>\n",
       "      <td>0.999983</td>\n",
       "    </tr>\n",
       "    <tr>\n",
       "      <th>SVM_RBF_Kernel</th>\n",
       "      <td>25315.516332</td>\n",
       "      <td>25562.867836</td>\n",
       "      <td>0.789885</td>\n",
       "      <td>0.790633</td>\n",
       "    </tr>\n",
       "    <tr>\n",
       "      <th>Gradient_Boosting</th>\n",
       "      <td>18310.368112</td>\n",
       "      <td>18843.290447</td>\n",
       "      <td>0.890080</td>\n",
       "      <td>0.886237</td>\n",
       "    </tr>\n",
       "  </tbody>\n",
       "</table>\n",
       "</div>"
      ],
      "text/plain": [
       "                       Train_RMSE     Test_RMSE  Train_R2   Test_R2\n",
       "Linear_Regression      369.958181    230.296733  0.999955  0.999983\n",
       "K_Nearest_Neighbors  14996.456335  18327.087436  0.926267  0.892384\n",
       "Random_Forest        20847.298757  23107.040965  0.857511  0.828929\n",
       "SVM_Linear_Kernel      370.072199    229.977526  0.999955  0.999983\n",
       "SVM_RBF_Kernel       25315.516332  25562.867836  0.789885  0.790633\n",
       "Gradient_Boosting    18310.368112  18843.290447  0.890080  0.886237"
      ]
     },
     "execution_count": 43,
     "metadata": {},
     "output_type": "execute_result"
    }
   ],
   "source": [
    "# Convert results to DataFrame\n",
    "final_results_df = pd.DataFrame(final_results).T\n",
    "final_results_df"
   ]
  },
  {
   "cell_type": "code",
   "execution_count": 44,
   "metadata": {},
   "outputs": [
    {
     "data": {
      "image/png": "[encoded data removed]",
      "text/plain": [
       "<Figure size 1000x600 with 1 Axes>"
      ]
     },
     "metadata": {},
     "output_type": "display_data"
    }
   ],
   "source": [
    "# Visualize performance after feature selection\n",
    "\n",
    "plt.figure(figsize=(10, 6))\n",
    "sns.barplot(x=final_results_df.index, y=final_results_df[\"Test_RMSE\"])\n",
    "plt.title(\"Test RMSE After Bi-Directional Elimination\")\n",
    "plt.xticks(rotation=45)\n",
    "plt.show()"
   ]
  }
 ],
 "metadata": {
  "accelerator": "GPU",
  "colab": {
   "gpuType": "T4",
   "provenance": []
  },
  "kernelspec": {
   "display_name": "Python 3 (ipykernel)",
   "language": "python",
   "name": "python3"
  },
  "language_info": {
   "codemirror_mode": {
    "name": "ipython",
    "version": 3
   },
   "file_extension": ".py",
   "mimetype": "text/x-python",
   "name": "python",
   "nbconvert_exporter": "python",
   "pygments_lexer": "ipython3",
   "version": "3.12.4"
  }
 },
 "nbformat": 4,
 "nbformat_minor": 4
}
